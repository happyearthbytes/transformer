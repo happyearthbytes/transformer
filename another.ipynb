{
 "cells": [
  {
   "cell_type": "code",
   "execution_count": 47,
   "metadata": {},
   "outputs": [],
   "source": [
    "%%capture\n",
    "%load_ext autoreload\n",
    "%autoreload 2\n",
    "# python -m spacy download en_core_web_sm"
   ]
  },
  {
   "cell_type": "code",
   "execution_count": 48,
   "metadata": {},
   "outputs": [],
   "source": [
    "import xformer\n",
    "from xformer import Config, Format, DataHandler, DownloadConfig\n",
    "# from xformer import TrainHandler, DataHandler, Modules"
   ]
  },
  {
   "cell_type": "code",
   "execution_count": 49,
   "metadata": {},
   "outputs": [
    {
     "name": "stdout",
     "output_type": "stream",
     "text": [
      "\u001b[38;2;101;123;131mConfig\u001b[39m\u001b[38;2;101;123;131m(\u001b[39m\u001b[38;2;101;123;131mseed\u001b[39m\u001b[38;2;147;161;161m=\u001b[39m\u001b[38;2;42;161;152m0\u001b[39m\u001b[38;2;101;123;131m,\u001b[39m\n",
      "\u001b[38;2;101;123;131m       \u001b[39m\u001b[38;2;101;123;131mpreview\u001b[39m\u001b[38;2;147;161;161m=\u001b[39m\u001b[38;2;38;139;210mslice\u001b[39m\u001b[38;2;101;123;131m(\u001b[39m\u001b[38;2;42;161;152mNone\u001b[39m\u001b[38;2;101;123;131m,\u001b[39m\u001b[38;2;101;123;131m \u001b[39m\u001b[38;2;42;161;152m10\u001b[39m\u001b[38;2;101;123;131m,\u001b[39m\u001b[38;2;101;123;131m \u001b[39m\u001b[38;2;42;161;152mNone\u001b[39m\u001b[38;2;101;123;131m)\u001b[39m\u001b[38;2;101;123;131m,\u001b[39m\n",
      "\u001b[38;2;101;123;131m       \u001b[39m\u001b[38;2;101;123;131mexample_item\u001b[39m\u001b[38;2;147;161;161m=\u001b[39m\u001b[38;2;42;161;152m1337\u001b[39m\u001b[38;2;101;123;131m,\u001b[39m\n",
      "\u001b[38;2;101;123;131m       \u001b[39m\u001b[38;2;101;123;131mmax_length\u001b[39m\u001b[38;2;147;161;161m=\u001b[39m\u001b[38;2;42;161;152m512\u001b[39m\u001b[38;2;101;123;131m,\u001b[39m\n",
      "\u001b[38;2;101;123;131m       \u001b[39m\u001b[38;2;101;123;131mmin_freq\u001b[39m\u001b[38;2;147;161;161m=\u001b[39m\u001b[38;2;42;161;152m5\u001b[39m\u001b[38;2;101;123;131m,\u001b[39m\n",
      "\u001b[38;2;101;123;131m       \u001b[39m\u001b[38;2;101;123;131mdefault_token\u001b[39m\u001b[38;2;147;161;161m=\u001b[39m\u001b[38;2;42;161;152m'\u001b[39m\u001b[38;2;42;161;152m<unk>\u001b[39m\u001b[38;2;42;161;152m'\u001b[39m\u001b[38;2;101;123;131m,\u001b[39m\n",
      "\u001b[38;2;101;123;131m       \u001b[39m\u001b[38;2;101;123;131mspecial_tokens\u001b[39m\u001b[38;2;147;161;161m=\u001b[39m\u001b[38;2;101;123;131m[\u001b[39m\u001b[38;2;42;161;152m'\u001b[39m\u001b[38;2;42;161;152m<unk>\u001b[39m\u001b[38;2;42;161;152m'\u001b[39m\u001b[38;2;101;123;131m,\u001b[39m\u001b[38;2;101;123;131m \u001b[39m\u001b[38;2;42;161;152m'\u001b[39m\u001b[38;2;42;161;152m<pad>\u001b[39m\u001b[38;2;42;161;152m'\u001b[39m\u001b[38;2;101;123;131m]\u001b[39m\u001b[38;2;101;123;131m,\u001b[39m\n",
      "\u001b[38;2;101;123;131m       \u001b[39m\u001b[38;2;101;123;131mbatch_size\u001b[39m\u001b[38;2;147;161;161m=\u001b[39m\u001b[38;2;42;161;152m512\u001b[39m\u001b[38;2;101;123;131m,\u001b[39m\n",
      "\u001b[38;2;101;123;131m       \u001b[39m\u001b[38;2;101;123;131mlr\u001b[39m\u001b[38;2;147;161;161m=\u001b[39m\u001b[38;2;42;161;152m0.001\u001b[39m\u001b[38;2;101;123;131m,\u001b[39m\n",
      "\u001b[38;2;101;123;131m       \u001b[39m\u001b[38;2;101;123;131mnum_epochs\u001b[39m\u001b[38;2;147;161;161m=\u001b[39m\u001b[38;2;42;161;152m20\u001b[39m\u001b[38;2;101;123;131m,\u001b[39m\n",
      "\u001b[38;2;101;123;131m       \u001b[39m\u001b[38;2;101;123;131mheads\u001b[39m\u001b[38;2;147;161;161m=\u001b[39m\u001b[38;2;42;161;152m4\u001b[39m\u001b[38;2;101;123;131m,\u001b[39m\n",
      "\u001b[38;2;101;123;131m       \u001b[39m\u001b[38;2;101;123;131memb\u001b[39m\u001b[38;2;147;161;161m=\u001b[39m\u001b[38;2;42;161;152m32\u001b[39m\u001b[38;2;101;123;131m,\u001b[39m\n",
      "\u001b[38;2;101;123;131m       \u001b[39m\u001b[38;2;101;123;131mdevice\u001b[39m\u001b[38;2;147;161;161m=\u001b[39m\u001b[38;2;42;161;152m'\u001b[39m\u001b[38;2;42;161;152mcuda\u001b[39m\u001b[38;2;42;161;152m'\u001b[39m\u001b[38;2;101;123;131m,\u001b[39m\n",
      "\u001b[38;2;101;123;131m       \u001b[39m\u001b[38;2;101;123;131mstart_time\u001b[39m\u001b[38;2;147;161;161m=\u001b[39m\u001b[38;2;42;161;152m1710209056.1190112\u001b[39m\u001b[38;2;101;123;131m,\u001b[39m\n",
      "\u001b[38;2;101;123;131m       \u001b[39m\u001b[38;2;101;123;131mlast_time\u001b[39m\u001b[38;2;147;161;161m=\u001b[39m\u001b[38;2;42;161;152m0.0\u001b[39m\u001b[38;2;101;123;131m)\u001b[39m\n",
      "\n"
     ]
    }
   ],
   "source": [
    "format = Format(style=\"solarized-light\")\n",
    "print_py = format.print_py\n",
    "print_obj = format.print_obj\n",
    "print_src = format.print_src\n",
    "config=Config()\n",
    "print_obj(config)"
   ]
  },
  {
   "cell_type": "code",
   "execution_count": 50,
   "metadata": {},
   "outputs": [
    {
     "name": "stdout",
     "output_type": "stream",
     "text": [
      "Skipping https://www.gutenberg.org/cache/epub/13600/pg13600.txt\n",
      "Skipping https://www.gutenberg.org/cache/epub/19699/pg19699.txt\n",
      "Skipping https://www.gutenberg.org/cache/epub/19846/pg19846.txt\n",
      "Skipping https://www.gutenberg.org/cache/epub/27478/pg27478.txt\n",
      "Skipping https://www.gutenberg.org/cache/epub/27479/pg27479.txt\n",
      "Skipping https://www.gutenberg.org/cache/epub/27480/pg27480.txt\n",
      "Skipping https://www.gutenberg.org/cache/epub/30073/pg30073.txt\n",
      "Skipping https://www.gutenberg.org/cache/epub/30685/pg30685.txt\n",
      "Skipping https://www.gutenberg.org/cache/epub/30935/pg30935.txt\n",
      "Skipping https://www.gutenberg.org/cache/epub/30976/pg30976.txt\n",
      "Skipping https://www.gutenberg.org/cache/epub/31156/pg31156.txt\n",
      "Skipping https://www.gutenberg.org/cache/epub/31329/pg31329.txt\n",
      "Skipping https://www.gutenberg.org/cache/epub/31447/pg31447.txt\n",
      "Skipping https://www.gutenberg.org/cache/epub/31641/pg31641.txt\n",
      "Skipping https://www.gutenberg.org/cache/epub/31793/pg31793.txt\n",
      "Skipping https://www.gutenberg.org/cache/epub/31855/pg31855.txt\n",
      "Skipping https://www.gutenberg.org/cache/epub/31950/pg31950.txt\n",
      "Skipping https://www.gutenberg.org/cache/epub/32063/pg32063.txt\n",
      "Skipping https://www.gutenberg.org/cache/epub/32097/pg32097.txt\n",
      "Skipping https://www.gutenberg.org/cache/epub/32182/pg32182.txt\n",
      "Skipping https://www.gutenberg.org/cache/epub/32294/pg32294.txt\n",
      "Skipping https://www.gutenberg.org/cache/epub/32423/pg32423.txt\n",
      "Skipping https://www.gutenberg.org/cache/epub/32607/pg32607.txt\n",
      "Skipping https://www.gutenberg.org/cache/epub/32689/pg32689.txt\n",
      "Skipping https://www.gutenberg.org/cache/epub/32758/pg32758.txt\n",
      "Skipping https://www.gutenberg.org/cache/epub/32783/pg32783.txt\n",
      "Skipping https://www.gutenberg.org/cache/epub/32860/pg32860.txt\n",
      "Skipping https://www.gutenberg.org/cache/epub/32940/pg32940.txt\n",
      "Skipping https://www.gutenberg.org/cache/epub/32975/pg32975.txt\n",
      "Skipping https://www.gutenberg.org/cache/epub/33052/pg33052.txt\n",
      "Skipping https://www.gutenberg.org/cache/epub/33127/pg33127.txt\n",
      "Skipping https://www.gutenberg.org/cache/epub/33189/pg33189.txt\n",
      "Skipping https://www.gutenberg.org/cache/epub/33239/pg33239.txt\n",
      "Skipping https://www.gutenberg.org/cache/epub/33295/pg33295.txt\n",
      "Skipping https://www.gutenberg.org/cache/epub/33365/pg33365.txt\n",
      "Skipping https://www.gutenberg.org/cache/epub/33427/pg33427.txt\n",
      "Skipping https://www.gutenberg.org/cache/epub/33550/pg33550.txt\n",
      "Skipping https://www.gutenberg.org/cache/epub/33614/pg33614.txt\n",
      "Skipping https://www.gutenberg.org/cache/epub/33698/pg33698.txt\n",
      "Skipping https://www.gutenberg.org/cache/epub/33750/pg33750.txt\n",
      "Skipping https://www.gutenberg.org/cache/epub/34018/pg34018.txt\n",
      "Skipping https://www.gutenberg.org/cache/epub/34047/pg34047.txt\n",
      "Skipping https://www.gutenberg.org/cache/epub/34082/pg34082.txt\n",
      "Skipping https://www.gutenberg.org/cache/epub/34116/pg34116.txt\n",
      "Skipping https://www.gutenberg.org/cache/epub/34162/pg34162.txt\n",
      "Skipping https://www.gutenberg.org/cache/epub/34209/pg34209.txt\n",
      "Skipping https://www.gutenberg.org/cache/epub/34312/pg34312.txt\n",
      "Skipping https://www.gutenberg.org/cache/epub/34405/pg34405.txt\n",
      "Skipping https://www.gutenberg.org/cache/epub/34533/pg34533.txt\n",
      "Skipping https://www.gutenberg.org/cache/epub/34612/pg34612.txt\n",
      "Skipping https://www.gutenberg.org/cache/epub/34702/pg34702.txt\n",
      "Skipping https://www.gutenberg.org/cache/epub/34751/pg34751.txt\n",
      "Skipping https://www.gutenberg.org/cache/epub/34878/pg34878.txt\n",
      "Skipping https://www.gutenberg.org/cache/epub/34992/pg34992.txt\n",
      "Skipping https://www.gutenberg.org/cache/epub/35092/pg35092.txt\n",
      "Skipping https://www.gutenberg.org/cache/epub/35169/pg35169.txt\n",
      "Skipping https://www.gutenberg.org/cache/epub/35236/pg35236.txt\n",
      "Skipping https://www.gutenberg.org/cache/epub/35306/pg35306.txt\n",
      "Skipping https://www.gutenberg.org/cache/epub/35398/pg35398.txt\n",
      "Skipping https://www.gutenberg.org/cache/epub/35473/pg35473.txt\n",
      "Skipping https://www.gutenberg.org/cache/epub/35561/pg35561.txt\n",
      "Skipping https://www.gutenberg.org/cache/epub/35606/pg35606.txt\n",
      "Skipping https://www.gutenberg.org/cache/epub/35747/pg35747.txt\n",
      "Skipping https://www.gutenberg.org/cache/epub/35925/pg35925.txt\n",
      "Skipping https://www.gutenberg.org/cache/epub/36104/pg36104.txt\n",
      "Skipping https://www.gutenberg.org/cache/epub/36226/pg36226.txt\n",
      "Skipping https://www.gutenberg.org/cache/epub/36452/pg36452.txt\n",
      "Skipping https://www.gutenberg.org/cache/epub/36735/pg36735.txt\n",
      "Skipping https://www.gutenberg.org/cache/epub/37064/pg37064.txt\n",
      "Skipping https://www.gutenberg.org/cache/epub/37160/pg37160.txt\n",
      "Skipping https://www.gutenberg.org/cache/epub/37282/pg37282.txt\n",
      "Skipping https://www.gutenberg.org/cache/epub/37461/pg37461.txt\n",
      "Skipping https://www.gutenberg.org/cache/epub/37523/pg37523.txt\n",
      "Skipping https://www.gutenberg.org/cache/epub/37610/pg37610.txt\n",
      "Skipping https://www.gutenberg.org/cache/epub/37736/pg37736.txt\n",
      "Skipping https://www.gutenberg.org/cache/epub/37806/pg37806.txt\n",
      "Skipping https://www.gutenberg.org/cache/epub/37880/pg37880.txt\n",
      "Skipping https://www.gutenberg.org/cache/epub/37984/pg37984.txt\n",
      "Skipping https://www.gutenberg.org/cache/epub/38143/pg38143.txt\n",
      "Skipping https://www.gutenberg.org/cache/epub/38202/pg38202.txt\n",
      "Skipping https://www.gutenberg.org/cache/epub/38304/pg38304.txt\n",
      "Skipping https://www.gutenberg.org/cache/epub/38401/pg38401.txt\n",
      "Skipping https://www.gutenberg.org/cache/epub/38454/pg38454.txt\n",
      "Skipping https://www.gutenberg.org/cache/epub/38539/pg38539.txt\n",
      "Skipping https://www.gutenberg.org/cache/epub/38622/pg38622.txt\n",
      "Skipping https://www.gutenberg.org/cache/epub/38709/pg38709.txt\n",
      "Skipping https://www.gutenberg.org/cache/epub/38799/pg38799.txt\n",
      "Skipping https://www.gutenberg.org/cache/epub/38892/pg38892.txt\n",
      "Skipping https://www.gutenberg.org/cache/epub/38964/pg38964.txt\n",
      "Skipping https://www.gutenberg.org/cache/epub/39029/pg39029.txt\n",
      "Skipping https://www.gutenberg.org/cache/epub/39127/pg39127.txt\n",
      "Skipping https://www.gutenberg.org/cache/epub/39232/pg39232.txt\n",
      "Skipping https://www.gutenberg.org/cache/epub/39353/pg39353.txt\n",
      "Skipping https://www.gutenberg.org/cache/epub/39435/pg39435.txt\n",
      "Skipping https://www.gutenberg.org/cache/epub/39521/pg39521.txt\n",
      "Skipping https://www.gutenberg.org/cache/epub/39632/pg39632.txt\n",
      "Skipping https://www.gutenberg.org/cache/epub/39700/pg39700.txt\n",
      "Skipping https://www.gutenberg.org/cache/epub/39775/pg39775.txt\n",
      "Skipping https://www.gutenberg.org/cache/epub/39908/pg39908.txt\n",
      "Skipping https://www.gutenberg.org/cache/epub/40009/pg40009.txt\n",
      "Skipping https://www.gutenberg.org/cache/epub/40096/pg40096.txt\n",
      "Skipping https://www.gutenberg.org/cache/epub/40156/pg40156.txt\n",
      "Skipping https://www.gutenberg.org/cache/epub/40370/pg40370.txt\n",
      "Skipping https://www.gutenberg.org/cache/epub/40538/pg40538.txt\n",
      "Skipping https://www.gutenberg.org/cache/epub/40641/pg40641.txt\n",
      "Skipping https://www.gutenberg.org/cache/epub/40769/pg40769.txt\n",
      "Skipping https://www.gutenberg.org/cache/epub/40863/pg40863.txt\n",
      "Skipping https://www.gutenberg.org/cache/epub/40956/pg40956.txt\n",
      "Skipping https://www.gutenberg.org/cache/epub/41055/pg41055.txt\n",
      "Skipping https://www.gutenberg.org/cache/epub/41156/pg41156.txt\n",
      "Skipping https://www.gutenberg.org/cache/epub/41264/pg41264.txt\n",
      "Skipping https://www.gutenberg.org/cache/epub/41343/pg41343.txt\n",
      "Skipping https://www.gutenberg.org/cache/epub/41472/pg41472.txt\n",
      "Skipping https://www.gutenberg.org/cache/epub/41567/pg41567.txt\n",
      "Skipping https://www.gutenberg.org/cache/epub/41685/pg41685.txt\n",
      "Skipping https://www.gutenberg.org/cache/epub/41773/pg41773.txt\n",
      "Skipping https://www.gutenberg.org/cache/epub/41902/pg41902.txt\n",
      "Skipping https://www.gutenberg.org/cache/epub/42048/pg42048.txt\n",
      "Skipping https://www.gutenberg.org/cache/epub/42173/pg42173.txt\n",
      "Skipping https://www.gutenberg.org/cache/epub/42342/pg42342.txt\n",
      "Skipping https://www.gutenberg.org/cache/epub/42473/pg42473.txt\n",
      "Skipping https://www.gutenberg.org/cache/epub/42552/pg42552.txt\n",
      "Skipping https://www.gutenberg.org/cache/epub/42638/pg42638.txt\n",
      "Skipping https://www.gutenberg.org/cache/epub/42736/pg42736.txt\n",
      "Skipping https://www.gutenberg.org/cache/epub/42854/pg42854.txt\n",
      "Skipping https://www.gutenberg.org/cache/epub/43060/pg43060.txt\n",
      "Skipping https://www.gutenberg.org/cache/epub/43254/pg43254.txt\n",
      "Skipping https://www.gutenberg.org/cache/epub/43427/pg43427.txt\n"
     ]
    }
   ],
   "source": [
    "dl = DataHandler.Downloader(DownloadConfig())\n",
    "dl.download()"
   ]
  },
  {
   "cell_type": "code",
   "execution_count": 51,
   "metadata": {},
   "outputs": [
    {
     "ename": "OSError",
     "evalue": "[E050] Can't find model 'en_core_web_sm'. It doesn't seem to be a Python package or a valid path to a data directory.",
     "output_type": "error",
     "traceback": [
      "\u001b[1;31m---------------------------------------------------------------------------\u001b[0m",
      "\u001b[1;31mOSError\u001b[0m                                   Traceback (most recent call last)",
      "Cell \u001b[1;32mIn[51], line 1\u001b[0m\n\u001b[1;32m----> 1\u001b[0m tok \u001b[38;5;241m=\u001b[39m \u001b[43mDataHandler\u001b[49m\u001b[38;5;241;43m.\u001b[39;49m\u001b[43mTokenizer\u001b[49m\u001b[43m(\u001b[49m\u001b[43mconfig\u001b[49m\u001b[38;5;241;43m=\u001b[39;49m\u001b[43mconfig\u001b[49m\u001b[43m)\u001b[49m\n\u001b[0;32m      2\u001b[0m tok\u001b[38;5;241m.\u001b[39msave_tokenized()\n",
      "File \u001b[1;32ms:\\repos\\transformer\\xformer.py:124\u001b[0m, in \u001b[0;36mDataHandler.Tokenizer.__init__\u001b[1;34m(self, config)\u001b[0m\n\u001b[0;32m    122\u001b[0m \u001b[38;5;28;01mdef\u001b[39;00m \u001b[38;5;21m__init__\u001b[39m(\u001b[38;5;28mself\u001b[39m, config: Config):\n\u001b[0;32m    123\u001b[0m     \u001b[38;5;28mself\u001b[39m\u001b[38;5;241m.\u001b[39mconfig \u001b[38;5;241m=\u001b[39m config\n\u001b[1;32m--> 124\u001b[0m     \u001b[38;5;28mself\u001b[39m\u001b[38;5;241m.\u001b[39mnlp \u001b[38;5;241m=\u001b[39m \u001b[43mspacy\u001b[49m\u001b[38;5;241;43m.\u001b[39;49m\u001b[43mload\u001b[49m\u001b[43m(\u001b[49m\u001b[38;5;124;43m\"\u001b[39;49m\u001b[38;5;124;43men_core_web_sm\u001b[39;49m\u001b[38;5;124;43m\"\u001b[39;49m\u001b[43m)\u001b[49m\n",
      "File \u001b[1;32mc:\\Users\\joedi\\AppData\\Local\\Programs\\Python\\Python311\\Lib\\site-packages\\spacy\\__init__.py:51\u001b[0m, in \u001b[0;36mload\u001b[1;34m(name, vocab, disable, enable, exclude, config)\u001b[0m\n\u001b[0;32m     27\u001b[0m \u001b[38;5;28;01mdef\u001b[39;00m \u001b[38;5;21mload\u001b[39m(\n\u001b[0;32m     28\u001b[0m     name: Union[\u001b[38;5;28mstr\u001b[39m, Path],\n\u001b[0;32m     29\u001b[0m     \u001b[38;5;241m*\u001b[39m,\n\u001b[1;32m   (...)\u001b[0m\n\u001b[0;32m     34\u001b[0m     config: Union[Dict[\u001b[38;5;28mstr\u001b[39m, Any], Config] \u001b[38;5;241m=\u001b[39m util\u001b[38;5;241m.\u001b[39mSimpleFrozenDict(),\n\u001b[0;32m     35\u001b[0m ) \u001b[38;5;241m-\u001b[39m\u001b[38;5;241m>\u001b[39m Language:\n\u001b[0;32m     36\u001b[0m \u001b[38;5;250m    \u001b[39m\u001b[38;5;124;03m\"\"\"Load a spaCy model from an installed package or a local path.\u001b[39;00m\n\u001b[0;32m     37\u001b[0m \n\u001b[0;32m     38\u001b[0m \u001b[38;5;124;03m    name (str): Package name or model path.\u001b[39;00m\n\u001b[1;32m   (...)\u001b[0m\n\u001b[0;32m     49\u001b[0m \u001b[38;5;124;03m    RETURNS (Language): The loaded nlp object.\u001b[39;00m\n\u001b[0;32m     50\u001b[0m \u001b[38;5;124;03m    \"\"\"\u001b[39;00m\n\u001b[1;32m---> 51\u001b[0m     \u001b[38;5;28;01mreturn\u001b[39;00m \u001b[43mutil\u001b[49m\u001b[38;5;241;43m.\u001b[39;49m\u001b[43mload_model\u001b[49m\u001b[43m(\u001b[49m\n\u001b[0;32m     52\u001b[0m \u001b[43m        \u001b[49m\u001b[43mname\u001b[49m\u001b[43m,\u001b[49m\n\u001b[0;32m     53\u001b[0m \u001b[43m        \u001b[49m\u001b[43mvocab\u001b[49m\u001b[38;5;241;43m=\u001b[39;49m\u001b[43mvocab\u001b[49m\u001b[43m,\u001b[49m\n\u001b[0;32m     54\u001b[0m \u001b[43m        \u001b[49m\u001b[43mdisable\u001b[49m\u001b[38;5;241;43m=\u001b[39;49m\u001b[43mdisable\u001b[49m\u001b[43m,\u001b[49m\n\u001b[0;32m     55\u001b[0m \u001b[43m        \u001b[49m\u001b[43menable\u001b[49m\u001b[38;5;241;43m=\u001b[39;49m\u001b[43menable\u001b[49m\u001b[43m,\u001b[49m\n\u001b[0;32m     56\u001b[0m \u001b[43m        \u001b[49m\u001b[43mexclude\u001b[49m\u001b[38;5;241;43m=\u001b[39;49m\u001b[43mexclude\u001b[49m\u001b[43m,\u001b[49m\n\u001b[0;32m     57\u001b[0m \u001b[43m        \u001b[49m\u001b[43mconfig\u001b[49m\u001b[38;5;241;43m=\u001b[39;49m\u001b[43mconfig\u001b[49m\u001b[43m,\u001b[49m\n\u001b[0;32m     58\u001b[0m \u001b[43m    \u001b[49m\u001b[43m)\u001b[49m\n",
      "File \u001b[1;32mc:\\Users\\joedi\\AppData\\Local\\Programs\\Python\\Python311\\Lib\\site-packages\\spacy\\util.py:472\u001b[0m, in \u001b[0;36mload_model\u001b[1;34m(name, vocab, disable, enable, exclude, config)\u001b[0m\n\u001b[0;32m    470\u001b[0m \u001b[38;5;28;01mif\u001b[39;00m name \u001b[38;5;129;01min\u001b[39;00m OLD_MODEL_SHORTCUTS:\n\u001b[0;32m    471\u001b[0m     \u001b[38;5;28;01mraise\u001b[39;00m \u001b[38;5;167;01mIOError\u001b[39;00m(Errors\u001b[38;5;241m.\u001b[39mE941\u001b[38;5;241m.\u001b[39mformat(name\u001b[38;5;241m=\u001b[39mname, full\u001b[38;5;241m=\u001b[39mOLD_MODEL_SHORTCUTS[name]))  \u001b[38;5;66;03m# type: ignore[index]\u001b[39;00m\n\u001b[1;32m--> 472\u001b[0m \u001b[38;5;28;01mraise\u001b[39;00m \u001b[38;5;167;01mIOError\u001b[39;00m(Errors\u001b[38;5;241m.\u001b[39mE050\u001b[38;5;241m.\u001b[39mformat(name\u001b[38;5;241m=\u001b[39mname))\n",
      "\u001b[1;31mOSError\u001b[0m: [E050] Can't find model 'en_core_web_sm'. It doesn't seem to be a Python package or a valid path to a data directory."
     ]
    }
   ],
   "source": [
    "tok = DataHandler.Tokenizer(config=config)\n",
    "tok.save_tokenized()"
   ]
  }
 ],
 "metadata": {
  "kernelspec": {
   "display_name": "Python 3",
   "language": "python",
   "name": "python3"
  },
  "language_info": {
   "codemirror_mode": {
    "name": "ipython",
    "version": 3
   },
   "file_extension": ".py",
   "mimetype": "text/x-python",
   "name": "python",
   "nbconvert_exporter": "python",
   "pygments_lexer": "ipython3",
   "version": "3.11.4"
  }
 },
 "nbformat": 4,
 "nbformat_minor": 2
}
